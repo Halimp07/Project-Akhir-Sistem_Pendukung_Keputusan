{
  "cells": [
    {
      "cell_type": "markdown",
      "id": "878af1f7",
      "metadata": {
        "id": "878af1f7"
      },
      "source": [
        "## PROGRAM MADM AHP (ANALYTICAL HIERACHY PROCESS) DALAM BAHASA PYTHON"
      ]
    },
    {
      "cell_type": "markdown",
      "id": "5a956542",
      "metadata": {
        "id": "5a956542"
      },
      "source": [
        "### Deskripsi Masalah"
      ]
    },
    {
      "cell_type": "markdown",
      "id": "a18365eb",
      "metadata": {
        "id": "a18365eb"
      },
      "source": [
        "Manajer pembelian Suroboyo Bus bertanggung jawab untuk memutuskan perusahaan mana yang tersedia untuk membeli 50 bus untuk rute baru. Setelah studi kelayakan awal dan analisis merek, model beberapa bus, dan proses yang terkait dengan pembelian, ia mempersempit daftar alternatif keputusannya menjadi tiga opsi;\n",
        "1. **Proyek 1**: Pembelian model Eksekutif,\n",
        "2. **Proyek 2**: Pembelian model Medium, dan\n",
        "3. **Proyek 3**: Pembelian model Ekonomi.\n",
        "\n",
        "Suroboyo Bus memutuskan bahwa kriteria berikut relevan untuk proses keputusan pembeliannya:\n",
        "1. **Mil per galon (MPG)**\n",
        "2. **Kenyamanan**\n",
        "3. **Gaya**\n",
        "4. **Harga**"
      ]
    },
    {
      "cell_type": "markdown",
      "source": [],
      "metadata": {
        "id": "xUQ-2ra0L_M8"
      },
      "id": "xUQ-2ra0L_M8"
    },
    {
      "cell_type": "markdown",
      "id": "ca012fc4",
      "metadata": {
        "id": "ca012fc4"
      },
      "source": [
        "### Mengimport libraries"
      ]
    },
    {
      "cell_type": "code",
      "execution_count": 1,
      "id": "d09c814c",
      "metadata": {
        "id": "d09c814c"
      },
      "outputs": [],
      "source": [
        "import pandas as pd\n",
        "import matplotlib.pyplot as plt\n",
        "%matplotlib inline"
      ]
    },
    {
      "cell_type": "markdown",
      "id": "d02be9ed",
      "metadata": {
        "id": "d02be9ed"
      },
      "source": [
        "### Tabel 1: Penilaian Verbal ke Peringkat Numerik"
      ]
    },
    {
      "cell_type": "code",
      "execution_count": 2,
      "id": "2cafc7e0",
      "metadata": {
        "colab": {
          "base_uri": "https://localhost:8080/",
          "height": 363
        },
        "id": "2cafc7e0",
        "outputId": "367c7562-868b-4b26-f5da-c979ce7dcdf7"
      },
      "outputs": [
        {
          "output_type": "execute_result",
          "data": {
            "text/plain": [
              "                                                  Peringkat Numerik\n",
              "Tingkat Kepentingan                                                \n",
              "Mutlak lebih penting                                              9\n",
              "Sangat lebih penting hingga mutlak lebih penting                  8\n",
              "Sangat lebih penting                                              7\n",
              "Lebih penting hingga sangat lebih penting                         6\n",
              "Lebih penting                                                     5\n",
              "Cukup penting hingga lebih penting                                4\n",
              "Cukup penting                                                     3\n",
              "Sama penting hingga cukup penting                                 2\n",
              "Sama penting                                                      1"
            ],
            "text/html": [
              "\n",
              "  <div id=\"df-ddacb89b-7dac-4cd2-b20b-4efac3b4ee6c\">\n",
              "    <div class=\"colab-df-container\">\n",
              "      <div>\n",
              "<style scoped>\n",
              "    .dataframe tbody tr th:only-of-type {\n",
              "        vertical-align: middle;\n",
              "    }\n",
              "\n",
              "    .dataframe tbody tr th {\n",
              "        vertical-align: top;\n",
              "    }\n",
              "\n",
              "    .dataframe thead th {\n",
              "        text-align: right;\n",
              "    }\n",
              "</style>\n",
              "<table border=\"1\" class=\"dataframe\">\n",
              "  <thead>\n",
              "    <tr style=\"text-align: right;\">\n",
              "      <th></th>\n",
              "      <th>Peringkat Numerik</th>\n",
              "    </tr>\n",
              "    <tr>\n",
              "      <th>Tingkat Kepentingan</th>\n",
              "      <th></th>\n",
              "    </tr>\n",
              "  </thead>\n",
              "  <tbody>\n",
              "    <tr>\n",
              "      <th>Mutlak lebih penting</th>\n",
              "      <td>9</td>\n",
              "    </tr>\n",
              "    <tr>\n",
              "      <th>Sangat lebih penting hingga mutlak lebih penting</th>\n",
              "      <td>8</td>\n",
              "    </tr>\n",
              "    <tr>\n",
              "      <th>Sangat lebih penting</th>\n",
              "      <td>7</td>\n",
              "    </tr>\n",
              "    <tr>\n",
              "      <th>Lebih penting hingga sangat lebih penting</th>\n",
              "      <td>6</td>\n",
              "    </tr>\n",
              "    <tr>\n",
              "      <th>Lebih penting</th>\n",
              "      <td>5</td>\n",
              "    </tr>\n",
              "    <tr>\n",
              "      <th>Cukup penting hingga lebih penting</th>\n",
              "      <td>4</td>\n",
              "    </tr>\n",
              "    <tr>\n",
              "      <th>Cukup penting</th>\n",
              "      <td>3</td>\n",
              "    </tr>\n",
              "    <tr>\n",
              "      <th>Sama penting hingga cukup penting</th>\n",
              "      <td>2</td>\n",
              "    </tr>\n",
              "    <tr>\n",
              "      <th>Sama penting</th>\n",
              "      <td>1</td>\n",
              "    </tr>\n",
              "  </tbody>\n",
              "</table>\n",
              "</div>\n",
              "      <button class=\"colab-df-convert\" onclick=\"convertToInteractive('df-ddacb89b-7dac-4cd2-b20b-4efac3b4ee6c')\"\n",
              "              title=\"Convert this dataframe to an interactive table.\"\n",
              "              style=\"display:none;\">\n",
              "        \n",
              "  <svg xmlns=\"http://www.w3.org/2000/svg\" height=\"24px\"viewBox=\"0 0 24 24\"\n",
              "       width=\"24px\">\n",
              "    <path d=\"M0 0h24v24H0V0z\" fill=\"none\"/>\n",
              "    <path d=\"M18.56 5.44l.94 2.06.94-2.06 2.06-.94-2.06-.94-.94-2.06-.94 2.06-2.06.94zm-11 1L8.5 8.5l.94-2.06 2.06-.94-2.06-.94L8.5 2.5l-.94 2.06-2.06.94zm10 10l.94 2.06.94-2.06 2.06-.94-2.06-.94-.94-2.06-.94 2.06-2.06.94z\"/><path d=\"M17.41 7.96l-1.37-1.37c-.4-.4-.92-.59-1.43-.59-.52 0-1.04.2-1.43.59L10.3 9.45l-7.72 7.72c-.78.78-.78 2.05 0 2.83L4 21.41c.39.39.9.59 1.41.59.51 0 1.02-.2 1.41-.59l7.78-7.78 2.81-2.81c.8-.78.8-2.07 0-2.86zM5.41 20L4 18.59l7.72-7.72 1.47 1.35L5.41 20z\"/>\n",
              "  </svg>\n",
              "      </button>\n",
              "      \n",
              "  <style>\n",
              "    .colab-df-container {\n",
              "      display:flex;\n",
              "      flex-wrap:wrap;\n",
              "      gap: 12px;\n",
              "    }\n",
              "\n",
              "    .colab-df-convert {\n",
              "      background-color: #E8F0FE;\n",
              "      border: none;\n",
              "      border-radius: 50%;\n",
              "      cursor: pointer;\n",
              "      display: none;\n",
              "      fill: #1967D2;\n",
              "      height: 32px;\n",
              "      padding: 0 0 0 0;\n",
              "      width: 32px;\n",
              "    }\n",
              "\n",
              "    .colab-df-convert:hover {\n",
              "      background-color: #E2EBFA;\n",
              "      box-shadow: 0px 1px 2px rgba(60, 64, 67, 0.3), 0px 1px 3px 1px rgba(60, 64, 67, 0.15);\n",
              "      fill: #174EA6;\n",
              "    }\n",
              "\n",
              "    [theme=dark] .colab-df-convert {\n",
              "      background-color: #3B4455;\n",
              "      fill: #D2E3FC;\n",
              "    }\n",
              "\n",
              "    [theme=dark] .colab-df-convert:hover {\n",
              "      background-color: #434B5C;\n",
              "      box-shadow: 0px 1px 3px 1px rgba(0, 0, 0, 0.15);\n",
              "      filter: drop-shadow(0px 1px 2px rgba(0, 0, 0, 0.3));\n",
              "      fill: #FFFFFF;\n",
              "    }\n",
              "  </style>\n",
              "\n",
              "      <script>\n",
              "        const buttonEl =\n",
              "          document.querySelector('#df-ddacb89b-7dac-4cd2-b20b-4efac3b4ee6c button.colab-df-convert');\n",
              "        buttonEl.style.display =\n",
              "          google.colab.kernel.accessAllowed ? 'block' : 'none';\n",
              "\n",
              "        async function convertToInteractive(key) {\n",
              "          const element = document.querySelector('#df-ddacb89b-7dac-4cd2-b20b-4efac3b4ee6c');\n",
              "          const dataTable =\n",
              "            await google.colab.kernel.invokeFunction('convertToInteractive',\n",
              "                                                     [key], {});\n",
              "          if (!dataTable) return;\n",
              "\n",
              "          const docLinkHtml = 'Like what you see? Visit the ' +\n",
              "            '<a target=\"_blank\" href=https://colab.research.google.com/notebooks/data_table.ipynb>data table notebook</a>'\n",
              "            + ' to learn more about interactive tables.';\n",
              "          element.innerHTML = '';\n",
              "          dataTable['output_type'] = 'display_data';\n",
              "          await google.colab.output.renderOutput(dataTable, element);\n",
              "          const docLink = document.createElement('div');\n",
              "          docLink.innerHTML = docLinkHtml;\n",
              "          element.appendChild(docLink);\n",
              "        }\n",
              "      </script>\n",
              "    </div>\n",
              "  </div>\n",
              "  "
            ]
          },
          "metadata": {},
          "execution_count": 2
        }
      ],
      "source": [
        "Rating_dic = {'Tingkat Kepentingan': ['Mutlak lebih penting','Sangat lebih penting hingga mutlak lebih penting',\n",
        "                                       'Sangat lebih penting','Lebih penting hingga sangat lebih penting',\n",
        "                                      'Lebih penting','Cukup penting hingga lebih penting',\n",
        "                                     'Cukup penting', 'Sama penting hingga cukup penting','Sama penting' ],\n",
        "                 'Peringkat Numerik': [9,8,7,6,5,4,3,2,1]}\n",
        "\n",
        "Rating_comparison = pd.DataFrame(Rating_dic).set_index('Tingkat Kepentingan')\n",
        "Rating_comparison"
      ]
    },
    {
      "cell_type": "markdown",
      "id": "5f9e7466",
      "metadata": {
        "id": "5f9e7466"
      },
      "source": [
        "### Tabel 2: Perbandingan Berpasangan Empat Kriteria Soal Pemilihan Bus"
      ]
    },
    {
      "cell_type": "code",
      "execution_count": 3,
      "id": "d15db852",
      "metadata": {
        "colab": {
          "base_uri": "https://localhost:8080/",
          "height": 269
        },
        "id": "d15db852",
        "outputId": "94bcd379-b4f5-4ef3-d074-094d45335bdf"
      },
      "outputs": [
        {
          "output_type": "execute_result",
          "data": {
            "text/plain": [
              "                         Kriteria Terpenting  \\\n",
              "Perbandingan Berpasangan                       \n",
              "Harga-MPG                              Harga   \n",
              "Harga-Kenyamanan                       Harga   \n",
              "Harga-Gaya                             Harga   \n",
              "MPG-Kenyamanan                    Kenyamanan   \n",
              "MPG-Gaya                                Gaya   \n",
              "Kenyamanan-Gaya                         Gaya   \n",
              "\n",
              "                                            Seberapa Penting  \\\n",
              "Perbandingan Berpasangan                                       \n",
              "Harga-MPG                                      Cukup penting   \n",
              "Harga-Kenyamanan           Sama penting hingga cukup penting   \n",
              "Harga-Gaya                 Sama penting hingga cukup penting   \n",
              "MPG-Kenyamanan            Cukup penting hingga lebih penting   \n",
              "MPG-Gaya                  Cukup penting hingga lebih penting   \n",
              "Kenyamanan-Gaya            Sama penting hingga cukup penting   \n",
              "\n",
              "                          Peringkat Numerik  \n",
              "Perbandingan Berpasangan                     \n",
              "Harga-MPG                                 3  \n",
              "Harga-Kenyamanan                          2  \n",
              "Harga-Gaya                                2  \n",
              "MPG-Kenyamanan                            4  \n",
              "MPG-Gaya                                  4  \n",
              "Kenyamanan-Gaya                           2  "
            ],
            "text/html": [
              "\n",
              "  <div id=\"df-f0bb0f47-ce78-4437-9851-d82e2220a60d\">\n",
              "    <div class=\"colab-df-container\">\n",
              "      <div>\n",
              "<style scoped>\n",
              "    .dataframe tbody tr th:only-of-type {\n",
              "        vertical-align: middle;\n",
              "    }\n",
              "\n",
              "    .dataframe tbody tr th {\n",
              "        vertical-align: top;\n",
              "    }\n",
              "\n",
              "    .dataframe thead th {\n",
              "        text-align: right;\n",
              "    }\n",
              "</style>\n",
              "<table border=\"1\" class=\"dataframe\">\n",
              "  <thead>\n",
              "    <tr style=\"text-align: right;\">\n",
              "      <th></th>\n",
              "      <th>Kriteria Terpenting</th>\n",
              "      <th>Seberapa Penting</th>\n",
              "      <th>Peringkat Numerik</th>\n",
              "    </tr>\n",
              "    <tr>\n",
              "      <th>Perbandingan Berpasangan</th>\n",
              "      <th></th>\n",
              "      <th></th>\n",
              "      <th></th>\n",
              "    </tr>\n",
              "  </thead>\n",
              "  <tbody>\n",
              "    <tr>\n",
              "      <th>Harga-MPG</th>\n",
              "      <td>Harga</td>\n",
              "      <td>Cukup penting</td>\n",
              "      <td>3</td>\n",
              "    </tr>\n",
              "    <tr>\n",
              "      <th>Harga-Kenyamanan</th>\n",
              "      <td>Harga</td>\n",
              "      <td>Sama penting hingga cukup penting</td>\n",
              "      <td>2</td>\n",
              "    </tr>\n",
              "    <tr>\n",
              "      <th>Harga-Gaya</th>\n",
              "      <td>Harga</td>\n",
              "      <td>Sama penting hingga cukup penting</td>\n",
              "      <td>2</td>\n",
              "    </tr>\n",
              "    <tr>\n",
              "      <th>MPG-Kenyamanan</th>\n",
              "      <td>Kenyamanan</td>\n",
              "      <td>Cukup penting hingga lebih penting</td>\n",
              "      <td>4</td>\n",
              "    </tr>\n",
              "    <tr>\n",
              "      <th>MPG-Gaya</th>\n",
              "      <td>Gaya</td>\n",
              "      <td>Cukup penting hingga lebih penting</td>\n",
              "      <td>4</td>\n",
              "    </tr>\n",
              "    <tr>\n",
              "      <th>Kenyamanan-Gaya</th>\n",
              "      <td>Gaya</td>\n",
              "      <td>Sama penting hingga cukup penting</td>\n",
              "      <td>2</td>\n",
              "    </tr>\n",
              "  </tbody>\n",
              "</table>\n",
              "</div>\n",
              "      <button class=\"colab-df-convert\" onclick=\"convertToInteractive('df-f0bb0f47-ce78-4437-9851-d82e2220a60d')\"\n",
              "              title=\"Convert this dataframe to an interactive table.\"\n",
              "              style=\"display:none;\">\n",
              "        \n",
              "  <svg xmlns=\"http://www.w3.org/2000/svg\" height=\"24px\"viewBox=\"0 0 24 24\"\n",
              "       width=\"24px\">\n",
              "    <path d=\"M0 0h24v24H0V0z\" fill=\"none\"/>\n",
              "    <path d=\"M18.56 5.44l.94 2.06.94-2.06 2.06-.94-2.06-.94-.94-2.06-.94 2.06-2.06.94zm-11 1L8.5 8.5l.94-2.06 2.06-.94-2.06-.94L8.5 2.5l-.94 2.06-2.06.94zm10 10l.94 2.06.94-2.06 2.06-.94-2.06-.94-.94-2.06-.94 2.06-2.06.94z\"/><path d=\"M17.41 7.96l-1.37-1.37c-.4-.4-.92-.59-1.43-.59-.52 0-1.04.2-1.43.59L10.3 9.45l-7.72 7.72c-.78.78-.78 2.05 0 2.83L4 21.41c.39.39.9.59 1.41.59.51 0 1.02-.2 1.41-.59l7.78-7.78 2.81-2.81c.8-.78.8-2.07 0-2.86zM5.41 20L4 18.59l7.72-7.72 1.47 1.35L5.41 20z\"/>\n",
              "  </svg>\n",
              "      </button>\n",
              "      \n",
              "  <style>\n",
              "    .colab-df-container {\n",
              "      display:flex;\n",
              "      flex-wrap:wrap;\n",
              "      gap: 12px;\n",
              "    }\n",
              "\n",
              "    .colab-df-convert {\n",
              "      background-color: #E8F0FE;\n",
              "      border: none;\n",
              "      border-radius: 50%;\n",
              "      cursor: pointer;\n",
              "      display: none;\n",
              "      fill: #1967D2;\n",
              "      height: 32px;\n",
              "      padding: 0 0 0 0;\n",
              "      width: 32px;\n",
              "    }\n",
              "\n",
              "    .colab-df-convert:hover {\n",
              "      background-color: #E2EBFA;\n",
              "      box-shadow: 0px 1px 2px rgba(60, 64, 67, 0.3), 0px 1px 3px 1px rgba(60, 64, 67, 0.15);\n",
              "      fill: #174EA6;\n",
              "    }\n",
              "\n",
              "    [theme=dark] .colab-df-convert {\n",
              "      background-color: #3B4455;\n",
              "      fill: #D2E3FC;\n",
              "    }\n",
              "\n",
              "    [theme=dark] .colab-df-convert:hover {\n",
              "      background-color: #434B5C;\n",
              "      box-shadow: 0px 1px 3px 1px rgba(0, 0, 0, 0.15);\n",
              "      filter: drop-shadow(0px 1px 2px rgba(0, 0, 0, 0.3));\n",
              "      fill: #FFFFFF;\n",
              "    }\n",
              "  </style>\n",
              "\n",
              "      <script>\n",
              "        const buttonEl =\n",
              "          document.querySelector('#df-f0bb0f47-ce78-4437-9851-d82e2220a60d button.colab-df-convert');\n",
              "        buttonEl.style.display =\n",
              "          google.colab.kernel.accessAllowed ? 'block' : 'none';\n",
              "\n",
              "        async function convertToInteractive(key) {\n",
              "          const element = document.querySelector('#df-f0bb0f47-ce78-4437-9851-d82e2220a60d');\n",
              "          const dataTable =\n",
              "            await google.colab.kernel.invokeFunction('convertToInteractive',\n",
              "                                                     [key], {});\n",
              "          if (!dataTable) return;\n",
              "\n",
              "          const docLinkHtml = 'Like what you see? Visit the ' +\n",
              "            '<a target=\"_blank\" href=https://colab.research.google.com/notebooks/data_table.ipynb>data table notebook</a>'\n",
              "            + ' to learn more about interactive tables.';\n",
              "          element.innerHTML = '';\n",
              "          dataTable['output_type'] = 'display_data';\n",
              "          await google.colab.output.renderOutput(dataTable, element);\n",
              "          const docLink = document.createElement('div');\n",
              "          docLink.innerHTML = docLinkHtml;\n",
              "          element.appendChild(docLink);\n",
              "        }\n",
              "      </script>\n",
              "    </div>\n",
              "  </div>\n",
              "  "
            ]
          },
          "metadata": {},
          "execution_count": 3
        }
      ],
      "source": [
        "comparison_dic = {'Perbandingan Berpasangan': ['Harga-MPG','Harga-Kenyamanan','Harga-Gaya','MPG-Kenyamanan','MPG-Gaya','Kenyamanan-Gaya'],\n",
        "                 'Kriteria Terpenting': ['Harga','Harga','Harga','Kenyamanan','Gaya','Gaya'],\n",
        "                 'Seberapa Penting': ['Cukup penting','Sama penting hingga cukup penting','Sama penting hingga cukup penting','Cukup penting hingga lebih penting','Cukup penting hingga lebih penting','Sama penting hingga cukup penting'],\n",
        "                 'Peringkat Numerik': [3,2,2,4,4,2]}\n",
        "\n",
        "criteria_comparison = pd.DataFrame(comparison_dic).set_index('Perbandingan Berpasangan')\n",
        "criteria_comparison"
      ]
    },
    {
      "cell_type": "markdown",
      "id": "2c24dd6d",
      "metadata": {
        "id": "2c24dd6d"
      },
      "source": [
        "**Konversi Penilaian Verbal ke Peringkat Numerik**"
      ]
    },
    {
      "cell_type": "code",
      "execution_count": 4,
      "id": "fdc438a3",
      "metadata": {
        "colab": {
          "base_uri": "https://localhost:8080/",
          "height": 206
        },
        "id": "fdc438a3",
        "outputId": "edd7366d-39f9-4e12-c5cf-0b7d2ddf2fcf"
      },
      "outputs": [
        {
          "output_type": "execute_result",
          "data": {
            "text/plain": [
              "                             Harga  Kenyamanan  Gaya  MPG\n",
              "Perbandingan Berpasangan                                 \n",
              "Harga                     1.000000        2.00  2.00    3\n",
              "Kenyamanan                0.500000        1.00  0.50    4\n",
              "Gaya                      0.500000        2.00  1.00    4\n",
              "MPG                       0.333333        0.25  0.25    1"
            ],
            "text/html": [
              "\n",
              "  <div id=\"df-87a36b5a-6e93-486a-8929-fa25e4ba52df\">\n",
              "    <div class=\"colab-df-container\">\n",
              "      <div>\n",
              "<style scoped>\n",
              "    .dataframe tbody tr th:only-of-type {\n",
              "        vertical-align: middle;\n",
              "    }\n",
              "\n",
              "    .dataframe tbody tr th {\n",
              "        vertical-align: top;\n",
              "    }\n",
              "\n",
              "    .dataframe thead th {\n",
              "        text-align: right;\n",
              "    }\n",
              "</style>\n",
              "<table border=\"1\" class=\"dataframe\">\n",
              "  <thead>\n",
              "    <tr style=\"text-align: right;\">\n",
              "      <th></th>\n",
              "      <th>Harga</th>\n",
              "      <th>Kenyamanan</th>\n",
              "      <th>Gaya</th>\n",
              "      <th>MPG</th>\n",
              "    </tr>\n",
              "    <tr>\n",
              "      <th>Perbandingan Berpasangan</th>\n",
              "      <th></th>\n",
              "      <th></th>\n",
              "      <th></th>\n",
              "      <th></th>\n",
              "    </tr>\n",
              "  </thead>\n",
              "  <tbody>\n",
              "    <tr>\n",
              "      <th>Harga</th>\n",
              "      <td>1.000000</td>\n",
              "      <td>2.00</td>\n",
              "      <td>2.00</td>\n",
              "      <td>3</td>\n",
              "    </tr>\n",
              "    <tr>\n",
              "      <th>Kenyamanan</th>\n",
              "      <td>0.500000</td>\n",
              "      <td>1.00</td>\n",
              "      <td>0.50</td>\n",
              "      <td>4</td>\n",
              "    </tr>\n",
              "    <tr>\n",
              "      <th>Gaya</th>\n",
              "      <td>0.500000</td>\n",
              "      <td>2.00</td>\n",
              "      <td>1.00</td>\n",
              "      <td>4</td>\n",
              "    </tr>\n",
              "    <tr>\n",
              "      <th>MPG</th>\n",
              "      <td>0.333333</td>\n",
              "      <td>0.25</td>\n",
              "      <td>0.25</td>\n",
              "      <td>1</td>\n",
              "    </tr>\n",
              "  </tbody>\n",
              "</table>\n",
              "</div>\n",
              "      <button class=\"colab-df-convert\" onclick=\"convertToInteractive('df-87a36b5a-6e93-486a-8929-fa25e4ba52df')\"\n",
              "              title=\"Convert this dataframe to an interactive table.\"\n",
              "              style=\"display:none;\">\n",
              "        \n",
              "  <svg xmlns=\"http://www.w3.org/2000/svg\" height=\"24px\"viewBox=\"0 0 24 24\"\n",
              "       width=\"24px\">\n",
              "    <path d=\"M0 0h24v24H0V0z\" fill=\"none\"/>\n",
              "    <path d=\"M18.56 5.44l.94 2.06.94-2.06 2.06-.94-2.06-.94-.94-2.06-.94 2.06-2.06.94zm-11 1L8.5 8.5l.94-2.06 2.06-.94-2.06-.94L8.5 2.5l-.94 2.06-2.06.94zm10 10l.94 2.06.94-2.06 2.06-.94-2.06-.94-.94-2.06-.94 2.06-2.06.94z\"/><path d=\"M17.41 7.96l-1.37-1.37c-.4-.4-.92-.59-1.43-.59-.52 0-1.04.2-1.43.59L10.3 9.45l-7.72 7.72c-.78.78-.78 2.05 0 2.83L4 21.41c.39.39.9.59 1.41.59.51 0 1.02-.2 1.41-.59l7.78-7.78 2.81-2.81c.8-.78.8-2.07 0-2.86zM5.41 20L4 18.59l7.72-7.72 1.47 1.35L5.41 20z\"/>\n",
              "  </svg>\n",
              "      </button>\n",
              "      \n",
              "  <style>\n",
              "    .colab-df-container {\n",
              "      display:flex;\n",
              "      flex-wrap:wrap;\n",
              "      gap: 12px;\n",
              "    }\n",
              "\n",
              "    .colab-df-convert {\n",
              "      background-color: #E8F0FE;\n",
              "      border: none;\n",
              "      border-radius: 50%;\n",
              "      cursor: pointer;\n",
              "      display: none;\n",
              "      fill: #1967D2;\n",
              "      height: 32px;\n",
              "      padding: 0 0 0 0;\n",
              "      width: 32px;\n",
              "    }\n",
              "\n",
              "    .colab-df-convert:hover {\n",
              "      background-color: #E2EBFA;\n",
              "      box-shadow: 0px 1px 2px rgba(60, 64, 67, 0.3), 0px 1px 3px 1px rgba(60, 64, 67, 0.15);\n",
              "      fill: #174EA6;\n",
              "    }\n",
              "\n",
              "    [theme=dark] .colab-df-convert {\n",
              "      background-color: #3B4455;\n",
              "      fill: #D2E3FC;\n",
              "    }\n",
              "\n",
              "    [theme=dark] .colab-df-convert:hover {\n",
              "      background-color: #434B5C;\n",
              "      box-shadow: 0px 1px 3px 1px rgba(0, 0, 0, 0.15);\n",
              "      filter: drop-shadow(0px 1px 2px rgba(0, 0, 0, 0.3));\n",
              "      fill: #FFFFFF;\n",
              "    }\n",
              "  </style>\n",
              "\n",
              "      <script>\n",
              "        const buttonEl =\n",
              "          document.querySelector('#df-87a36b5a-6e93-486a-8929-fa25e4ba52df button.colab-df-convert');\n",
              "        buttonEl.style.display =\n",
              "          google.colab.kernel.accessAllowed ? 'block' : 'none';\n",
              "\n",
              "        async function convertToInteractive(key) {\n",
              "          const element = document.querySelector('#df-87a36b5a-6e93-486a-8929-fa25e4ba52df');\n",
              "          const dataTable =\n",
              "            await google.colab.kernel.invokeFunction('convertToInteractive',\n",
              "                                                     [key], {});\n",
              "          if (!dataTable) return;\n",
              "\n",
              "          const docLinkHtml = 'Like what you see? Visit the ' +\n",
              "            '<a target=\"_blank\" href=https://colab.research.google.com/notebooks/data_table.ipynb>data table notebook</a>'\n",
              "            + ' to learn more about interactive tables.';\n",
              "          element.innerHTML = '';\n",
              "          dataTable['output_type'] = 'display_data';\n",
              "          await google.colab.output.renderOutput(dataTable, element);\n",
              "          const docLink = document.createElement('div');\n",
              "          docLink.innerHTML = docLinkHtml;\n",
              "          element.appendChild(docLink);\n",
              "        }\n",
              "      </script>\n",
              "    </div>\n",
              "  </div>\n",
              "  "
            ]
          },
          "metadata": {},
          "execution_count": 4
        }
      ],
      "source": [
        "Numeric_dic = {'Perbandingan Berpasangan': ['Harga','Kenyamanan','Gaya','MPG'],\n",
        "                 'Harga': [1,1/2,1/2,1/3],\n",
        "                 'Kenyamanan': [2,1,2,1/4],\n",
        "                 'Gaya': [2,1/2,1,1/4],\n",
        "                 'MPG': [3,4,4,1]}\n",
        "\n",
        "Numeric_comparison = pd.DataFrame(Numeric_dic).set_index('Perbandingan Berpasangan')\n",
        "Numeric_comparison"
      ]
    },
    {
      "cell_type": "markdown",
      "id": "121ba250",
      "metadata": {
        "id": "121ba250"
      },
      "source": [
        "#### Menghitung bobot untuk setiap kriteria"
      ]
    },
    {
      "cell_type": "code",
      "execution_count": 5,
      "id": "5ff28830",
      "metadata": {
        "colab": {
          "base_uri": "https://localhost:8080/",
          "height": 206
        },
        "id": "5ff28830",
        "outputId": "c62a0a8f-1c64-4c4d-9d08-e6a0755658ec"
      },
      "outputs": [
        {
          "output_type": "execute_result",
          "data": {
            "text/plain": [
              "                             Harga  Kenyamanan      Gaya       MPG\n",
              "Perbandingan Berpasangan                                          \n",
              "Harga                     0.428571    0.380952  0.533333  0.250000\n",
              "Kenyamanan                0.214286    0.190476  0.133333  0.333333\n",
              "Gaya                      0.214286    0.380952  0.266667  0.333333\n",
              "MPG                       0.142857    0.047619  0.066667  0.083333"
            ],
            "text/html": [
              "\n",
              "  <div id=\"df-735a7e49-8b4e-4024-8b13-1548c8fe922c\">\n",
              "    <div class=\"colab-df-container\">\n",
              "      <div>\n",
              "<style scoped>\n",
              "    .dataframe tbody tr th:only-of-type {\n",
              "        vertical-align: middle;\n",
              "    }\n",
              "\n",
              "    .dataframe tbody tr th {\n",
              "        vertical-align: top;\n",
              "    }\n",
              "\n",
              "    .dataframe thead th {\n",
              "        text-align: right;\n",
              "    }\n",
              "</style>\n",
              "<table border=\"1\" class=\"dataframe\">\n",
              "  <thead>\n",
              "    <tr style=\"text-align: right;\">\n",
              "      <th></th>\n",
              "      <th>Harga</th>\n",
              "      <th>Kenyamanan</th>\n",
              "      <th>Gaya</th>\n",
              "      <th>MPG</th>\n",
              "    </tr>\n",
              "    <tr>\n",
              "      <th>Perbandingan Berpasangan</th>\n",
              "      <th></th>\n",
              "      <th></th>\n",
              "      <th></th>\n",
              "      <th></th>\n",
              "    </tr>\n",
              "  </thead>\n",
              "  <tbody>\n",
              "    <tr>\n",
              "      <th>Harga</th>\n",
              "      <td>0.428571</td>\n",
              "      <td>0.380952</td>\n",
              "      <td>0.533333</td>\n",
              "      <td>0.250000</td>\n",
              "    </tr>\n",
              "    <tr>\n",
              "      <th>Kenyamanan</th>\n",
              "      <td>0.214286</td>\n",
              "      <td>0.190476</td>\n",
              "      <td>0.133333</td>\n",
              "      <td>0.333333</td>\n",
              "    </tr>\n",
              "    <tr>\n",
              "      <th>Gaya</th>\n",
              "      <td>0.214286</td>\n",
              "      <td>0.380952</td>\n",
              "      <td>0.266667</td>\n",
              "      <td>0.333333</td>\n",
              "    </tr>\n",
              "    <tr>\n",
              "      <th>MPG</th>\n",
              "      <td>0.142857</td>\n",
              "      <td>0.047619</td>\n",
              "      <td>0.066667</td>\n",
              "      <td>0.083333</td>\n",
              "    </tr>\n",
              "  </tbody>\n",
              "</table>\n",
              "</div>\n",
              "      <button class=\"colab-df-convert\" onclick=\"convertToInteractive('df-735a7e49-8b4e-4024-8b13-1548c8fe922c')\"\n",
              "              title=\"Convert this dataframe to an interactive table.\"\n",
              "              style=\"display:none;\">\n",
              "        \n",
              "  <svg xmlns=\"http://www.w3.org/2000/svg\" height=\"24px\"viewBox=\"0 0 24 24\"\n",
              "       width=\"24px\">\n",
              "    <path d=\"M0 0h24v24H0V0z\" fill=\"none\"/>\n",
              "    <path d=\"M18.56 5.44l.94 2.06.94-2.06 2.06-.94-2.06-.94-.94-2.06-.94 2.06-2.06.94zm-11 1L8.5 8.5l.94-2.06 2.06-.94-2.06-.94L8.5 2.5l-.94 2.06-2.06.94zm10 10l.94 2.06.94-2.06 2.06-.94-2.06-.94-.94-2.06-.94 2.06-2.06.94z\"/><path d=\"M17.41 7.96l-1.37-1.37c-.4-.4-.92-.59-1.43-.59-.52 0-1.04.2-1.43.59L10.3 9.45l-7.72 7.72c-.78.78-.78 2.05 0 2.83L4 21.41c.39.39.9.59 1.41.59.51 0 1.02-.2 1.41-.59l7.78-7.78 2.81-2.81c.8-.78.8-2.07 0-2.86zM5.41 20L4 18.59l7.72-7.72 1.47 1.35L5.41 20z\"/>\n",
              "  </svg>\n",
              "      </button>\n",
              "      \n",
              "  <style>\n",
              "    .colab-df-container {\n",
              "      display:flex;\n",
              "      flex-wrap:wrap;\n",
              "      gap: 12px;\n",
              "    }\n",
              "\n",
              "    .colab-df-convert {\n",
              "      background-color: #E8F0FE;\n",
              "      border: none;\n",
              "      border-radius: 50%;\n",
              "      cursor: pointer;\n",
              "      display: none;\n",
              "      fill: #1967D2;\n",
              "      height: 32px;\n",
              "      padding: 0 0 0 0;\n",
              "      width: 32px;\n",
              "    }\n",
              "\n",
              "    .colab-df-convert:hover {\n",
              "      background-color: #E2EBFA;\n",
              "      box-shadow: 0px 1px 2px rgba(60, 64, 67, 0.3), 0px 1px 3px 1px rgba(60, 64, 67, 0.15);\n",
              "      fill: #174EA6;\n",
              "    }\n",
              "\n",
              "    [theme=dark] .colab-df-convert {\n",
              "      background-color: #3B4455;\n",
              "      fill: #D2E3FC;\n",
              "    }\n",
              "\n",
              "    [theme=dark] .colab-df-convert:hover {\n",
              "      background-color: #434B5C;\n",
              "      box-shadow: 0px 1px 3px 1px rgba(0, 0, 0, 0.15);\n",
              "      filter: drop-shadow(0px 1px 2px rgba(0, 0, 0, 0.3));\n",
              "      fill: #FFFFFF;\n",
              "    }\n",
              "  </style>\n",
              "\n",
              "      <script>\n",
              "        const buttonEl =\n",
              "          document.querySelector('#df-735a7e49-8b4e-4024-8b13-1548c8fe922c button.colab-df-convert');\n",
              "        buttonEl.style.display =\n",
              "          google.colab.kernel.accessAllowed ? 'block' : 'none';\n",
              "\n",
              "        async function convertToInteractive(key) {\n",
              "          const element = document.querySelector('#df-735a7e49-8b4e-4024-8b13-1548c8fe922c');\n",
              "          const dataTable =\n",
              "            await google.colab.kernel.invokeFunction('convertToInteractive',\n",
              "                                                     [key], {});\n",
              "          if (!dataTable) return;\n",
              "\n",
              "          const docLinkHtml = 'Like what you see? Visit the ' +\n",
              "            '<a target=\"_blank\" href=https://colab.research.google.com/notebooks/data_table.ipynb>data table notebook</a>'\n",
              "            + ' to learn more about interactive tables.';\n",
              "          element.innerHTML = '';\n",
              "          dataTable['output_type'] = 'display_data';\n",
              "          await google.colab.output.renderOutput(dataTable, element);\n",
              "          const docLink = document.createElement('div');\n",
              "          docLink.innerHTML = docLinkHtml;\n",
              "          element.appendChild(docLink);\n",
              "        }\n",
              "      </script>\n",
              "    </div>\n",
              "  </div>\n",
              "  "
            ]
          },
          "metadata": {},
          "execution_count": 5
        }
      ],
      "source": [
        "criteria_weight = Numeric_comparison.copy()\n",
        "for col in ['Harga','Kenyamanan','Gaya','MPG']:\n",
        "    criteria_weight[col] = criteria_weight[col] / criteria_weight[col].sum()\n",
        "criteria_weight"
      ]
    },
    {
      "cell_type": "code",
      "execution_count": 6,
      "id": "86cd7fc4",
      "metadata": {
        "id": "86cd7fc4"
      },
      "outputs": [],
      "source": [
        "Price_weight = (criteria_weight['Harga'][0] + criteria_weight['Kenyamanan'][0] + criteria_weight['Gaya'][0] +criteria_weight['MPG'][0])/4\n",
        "Comfort_weight = (criteria_weight['Harga'][1] + criteria_weight['Kenyamanan'][1] + criteria_weight['Gaya'][1] +criteria_weight['MPG'][1])/4\n",
        "Style_weight = (criteria_weight['Harga'][2] + criteria_weight['Kenyamanan'][2] + criteria_weight['Gaya'][2] +criteria_weight['MPG'][2])/4\n",
        "MPG_weight = (criteria_weight['Harga'][3] + criteria_weight['Kenyamanan'][3] + criteria_weight['Gaya'][3] +criteria_weight['MPG'][3])/4"
      ]
    },
    {
      "cell_type": "code",
      "execution_count": 7,
      "id": "e2578656",
      "metadata": {
        "colab": {
          "base_uri": "https://localhost:8080/"
        },
        "id": "e2578656",
        "outputId": "55f86ec7-835e-4c76-b595-c75ac3a55696"
      },
      "outputs": [
        {
          "output_type": "stream",
          "name": "stdout",
          "text": [
            "Bobot Harga : 0.398\n",
            "Bobot Kenyamanan : 0.218\n",
            "Bobot Gaya : 0.299\n",
            "Bobot MPG : 0.085\n"
          ]
        }
      ],
      "source": [
        "print(f'Bobot Harga : {Price_weight:.3f}\\nBobot Kenyamanan : {Comfort_weight:.3f}\\nBobot Gaya : {Style_weight:.3f}\\nBobot MPG : {MPG_weight:.3f}')"
      ]
    },
    {
      "cell_type": "code",
      "execution_count": 19,
      "id": "386b208d",
      "metadata": {
        "colab": {
          "base_uri": "https://localhost:8080/",
          "height": 313
        },
        "id": "386b208d",
        "outputId": "5da55a0f-ecd9-443a-a453-ba38c1b1d45a"
      },
      "outputs": [
        {
          "output_type": "execute_result",
          "data": {
            "text/plain": [
              "Text(0, 0.5, 'Bobot Kriteria')"
            ]
          },
          "metadata": {},
          "execution_count": 19
        },
        {
          "output_type": "display_data",
          "data": {
            "text/plain": [
              "<Figure size 432x288 with 1 Axes>"
            ],
            "image/png": "[encoded data removed]"
          },
          "metadata": {
            "needs_background": "light"
          }
        }
      ],
      "source": [
        "plt.bar(['Harga','Kenyamanan','Gaya','MPG'],[Price_weight, Comfort_weight, Style_weight, MPG_weight], color = ['red', 'orange', 'Green', 'blue'])\n",
        "plt.title('Perbandingan Kriteria')\n",
        "plt.xlabel('Kriteria')\n",
        "plt.ylabel('Bobot Kriteria')"
      ]
    },
    {
      "cell_type": "markdown",
      "id": "dddf6dd5",
      "metadata": {
        "id": "dddf6dd5"
      },
      "source": [
        "Hasil bobot di atas menunjukkan bahwa kriteria Harga merupakan kriteria yang paling penting dari semua kriteria, dengan bobot 0.398, disusul kriteria Gaya dengan bobot 0.299, disusul kriteria Kenyamanan dengan bobot 0.218, dan kriteria MPG dengan bobot 0.085"
      ]
    },
    {
      "cell_type": "markdown",
      "id": "ac8b8f36",
      "metadata": {
        "id": "ac8b8f36"
      },
      "source": [
        "### Tabel 3: Perbandingan Berpasangan yang menunjukkan Preferensi untuk proyek berdasarkan kriteria"
      ]
    },
    {
      "cell_type": "markdown",
      "id": "6608ef61",
      "metadata": {
        "id": "6608ef61"
      },
      "source": [
        "### Kriteria Harga"
      ]
    },
    {
      "cell_type": "code",
      "execution_count": 20,
      "id": "e32cfb21",
      "metadata": {
        "colab": {
          "base_uri": "https://localhost:8080/",
          "height": 175
        },
        "id": "e32cfb21",
        "outputId": "69aff47a-8b14-4979-db5f-7285effeda79"
      },
      "outputs": [
        {
          "output_type": "execute_result",
          "data": {
            "text/plain": [
              "          Proyek 1  Proyek 2  Proyek 3\n",
              "HARGA                                 \n",
              "Proyek 1         1  0.333333      0.25\n",
              "Proyek 2         3  1.000000      0.50\n",
              "Proyek 3         4  2.000000      1.00"
            ],
            "text/html": [
              "\n",
              "  <div id=\"df-d512ddfd-6e0b-41ec-9fe4-4b01d3b6a244\">\n",
              "    <div class=\"colab-df-container\">\n",
              "      <div>\n",
              "<style scoped>\n",
              "    .dataframe tbody tr th:only-of-type {\n",
              "        vertical-align: middle;\n",
              "    }\n",
              "\n",
              "    .dataframe tbody tr th {\n",
              "        vertical-align: top;\n",
              "    }\n",
              "\n",
              "    .dataframe thead th {\n",
              "        text-align: right;\n",
              "    }\n",
              "</style>\n",
              "<table border=\"1\" class=\"dataframe\">\n",
              "  <thead>\n",
              "    <tr style=\"text-align: right;\">\n",
              "      <th></th>\n",
              "      <th>Proyek 1</th>\n",
              "      <th>Proyek 2</th>\n",
              "      <th>Proyek 3</th>\n",
              "    </tr>\n",
              "    <tr>\n",
              "      <th>HARGA</th>\n",
              "      <th></th>\n",
              "      <th></th>\n",
              "      <th></th>\n",
              "    </tr>\n",
              "  </thead>\n",
              "  <tbody>\n",
              "    <tr>\n",
              "      <th>Proyek 1</th>\n",
              "      <td>1</td>\n",
              "      <td>0.333333</td>\n",
              "      <td>0.25</td>\n",
              "    </tr>\n",
              "    <tr>\n",
              "      <th>Proyek 2</th>\n",
              "      <td>3</td>\n",
              "      <td>1.000000</td>\n",
              "      <td>0.50</td>\n",
              "    </tr>\n",
              "    <tr>\n",
              "      <th>Proyek 3</th>\n",
              "      <td>4</td>\n",
              "      <td>2.000000</td>\n",
              "      <td>1.00</td>\n",
              "    </tr>\n",
              "  </tbody>\n",
              "</table>\n",
              "</div>\n",
              "      <button class=\"colab-df-convert\" onclick=\"convertToInteractive('df-d512ddfd-6e0b-41ec-9fe4-4b01d3b6a244')\"\n",
              "              title=\"Convert this dataframe to an interactive table.\"\n",
              "              style=\"display:none;\">\n",
              "        \n",
              "  <svg xmlns=\"http://www.w3.org/2000/svg\" height=\"24px\"viewBox=\"0 0 24 24\"\n",
              "       width=\"24px\">\n",
              "    <path d=\"M0 0h24v24H0V0z\" fill=\"none\"/>\n",
              "    <path d=\"M18.56 5.44l.94 2.06.94-2.06 2.06-.94-2.06-.94-.94-2.06-.94 2.06-2.06.94zm-11 1L8.5 8.5l.94-2.06 2.06-.94-2.06-.94L8.5 2.5l-.94 2.06-2.06.94zm10 10l.94 2.06.94-2.06 2.06-.94-2.06-.94-.94-2.06-.94 2.06-2.06.94z\"/><path d=\"M17.41 7.96l-1.37-1.37c-.4-.4-.92-.59-1.43-.59-.52 0-1.04.2-1.43.59L10.3 9.45l-7.72 7.72c-.78.78-.78 2.05 0 2.83L4 21.41c.39.39.9.59 1.41.59.51 0 1.02-.2 1.41-.59l7.78-7.78 2.81-2.81c.8-.78.8-2.07 0-2.86zM5.41 20L4 18.59l7.72-7.72 1.47 1.35L5.41 20z\"/>\n",
              "  </svg>\n",
              "      </button>\n",
              "      \n",
              "  <style>\n",
              "    .colab-df-container {\n",
              "      display:flex;\n",
              "      flex-wrap:wrap;\n",
              "      gap: 12px;\n",
              "    }\n",
              "\n",
              "    .colab-df-convert {\n",
              "      background-color: #E8F0FE;\n",
              "      border: none;\n",
              "      border-radius: 50%;\n",
              "      cursor: pointer;\n",
              "      display: none;\n",
              "      fill: #1967D2;\n",
              "      height: 32px;\n",
              "      padding: 0 0 0 0;\n",
              "      width: 32px;\n",
              "    }\n",
              "\n",
              "    .colab-df-convert:hover {\n",
              "      background-color: #E2EBFA;\n",
              "      box-shadow: 0px 1px 2px rgba(60, 64, 67, 0.3), 0px 1px 3px 1px rgba(60, 64, 67, 0.15);\n",
              "      fill: #174EA6;\n",
              "    }\n",
              "\n",
              "    [theme=dark] .colab-df-convert {\n",
              "      background-color: #3B4455;\n",
              "      fill: #D2E3FC;\n",
              "    }\n",
              "\n",
              "    [theme=dark] .colab-df-convert:hover {\n",
              "      background-color: #434B5C;\n",
              "      box-shadow: 0px 1px 3px 1px rgba(0, 0, 0, 0.15);\n",
              "      filter: drop-shadow(0px 1px 2px rgba(0, 0, 0, 0.3));\n",
              "      fill: #FFFFFF;\n",
              "    }\n",
              "  </style>\n",
              "\n",
              "      <script>\n",
              "        const buttonEl =\n",
              "          document.querySelector('#df-d512ddfd-6e0b-41ec-9fe4-4b01d3b6a244 button.colab-df-convert');\n",
              "        buttonEl.style.display =\n",
              "          google.colab.kernel.accessAllowed ? 'block' : 'none';\n",
              "\n",
              "        async function convertToInteractive(key) {\n",
              "          const element = document.querySelector('#df-d512ddfd-6e0b-41ec-9fe4-4b01d3b6a244');\n",
              "          const dataTable =\n",
              "            await google.colab.kernel.invokeFunction('convertToInteractive',\n",
              "                                                     [key], {});\n",
              "          if (!dataTable) return;\n",
              "\n",
              "          const docLinkHtml = 'Like what you see? Visit the ' +\n",
              "            '<a target=\"_blank\" href=https://colab.research.google.com/notebooks/data_table.ipynb>data table notebook</a>'\n",
              "            + ' to learn more about interactive tables.';\n",
              "          element.innerHTML = '';\n",
              "          dataTable['output_type'] = 'display_data';\n",
              "          await google.colab.output.renderOutput(dataTable, element);\n",
              "          const docLink = document.createElement('div');\n",
              "          docLink.innerHTML = docLinkHtml;\n",
              "          element.appendChild(docLink);\n",
              "        }\n",
              "      </script>\n",
              "    </div>\n",
              "  </div>\n",
              "  "
            ]
          },
          "metadata": {},
          "execution_count": 20
        }
      ],
      "source": [
        "PRICE_dic = {'HARGA': ['Proyek 1','Proyek 2','Proyek 3'],\n",
        "                 'Proyek 1': [1,3,4],\n",
        "                 'Proyek 2': [1/3,1,2],\n",
        "                 'Proyek 3': [1/4,1/2,1,]}\n",
        "\n",
        "PRICE_comparison = pd.DataFrame(PRICE_dic).set_index('HARGA')\n",
        "PRICE_comparison"
      ]
    },
    {
      "cell_type": "code",
      "execution_count": 21,
      "id": "c8150685",
      "metadata": {
        "colab": {
          "base_uri": "https://localhost:8080/",
          "height": 175
        },
        "id": "c8150685",
        "outputId": "249d1e12-3040-4a12-e506-722bd53db21a"
      },
      "outputs": [
        {
          "output_type": "execute_result",
          "data": {
            "text/plain": [
              "          Proyek 1  Proyek 2  Proyek 3\n",
              "HARGA                                 \n",
              "Proyek 1     0.125       0.1  0.142857\n",
              "Proyek 2     0.375       0.3  0.285714\n",
              "Proyek 3     0.500       0.6  0.571429"
            ],
            "text/html": [
              "\n",
              "  <div id=\"df-3865d5fe-8b6a-40b3-ad3b-c3e6cb768e98\">\n",
              "    <div class=\"colab-df-container\">\n",
              "      <div>\n",
              "<style scoped>\n",
              "    .dataframe tbody tr th:only-of-type {\n",
              "        vertical-align: middle;\n",
              "    }\n",
              "\n",
              "    .dataframe tbody tr th {\n",
              "        vertical-align: top;\n",
              "    }\n",
              "\n",
              "    .dataframe thead th {\n",
              "        text-align: right;\n",
              "    }\n",
              "</style>\n",
              "<table border=\"1\" class=\"dataframe\">\n",
              "  <thead>\n",
              "    <tr style=\"text-align: right;\">\n",
              "      <th></th>\n",
              "      <th>Proyek 1</th>\n",
              "      <th>Proyek 2</th>\n",
              "      <th>Proyek 3</th>\n",
              "    </tr>\n",
              "    <tr>\n",
              "      <th>HARGA</th>\n",
              "      <th></th>\n",
              "      <th></th>\n",
              "      <th></th>\n",
              "    </tr>\n",
              "  </thead>\n",
              "  <tbody>\n",
              "    <tr>\n",
              "      <th>Proyek 1</th>\n",
              "      <td>0.125</td>\n",
              "      <td>0.1</td>\n",
              "      <td>0.142857</td>\n",
              "    </tr>\n",
              "    <tr>\n",
              "      <th>Proyek 2</th>\n",
              "      <td>0.375</td>\n",
              "      <td>0.3</td>\n",
              "      <td>0.285714</td>\n",
              "    </tr>\n",
              "    <tr>\n",
              "      <th>Proyek 3</th>\n",
              "      <td>0.500</td>\n",
              "      <td>0.6</td>\n",
              "      <td>0.571429</td>\n",
              "    </tr>\n",
              "  </tbody>\n",
              "</table>\n",
              "</div>\n",
              "      <button class=\"colab-df-convert\" onclick=\"convertToInteractive('df-3865d5fe-8b6a-40b3-ad3b-c3e6cb768e98')\"\n",
              "              title=\"Convert this dataframe to an interactive table.\"\n",
              "              style=\"display:none;\">\n",
              "        \n",
              "  <svg xmlns=\"http://www.w3.org/2000/svg\" height=\"24px\"viewBox=\"0 0 24 24\"\n",
              "       width=\"24px\">\n",
              "    <path d=\"M0 0h24v24H0V0z\" fill=\"none\"/>\n",
              "    <path d=\"M18.56 5.44l.94 2.06.94-2.06 2.06-.94-2.06-.94-.94-2.06-.94 2.06-2.06.94zm-11 1L8.5 8.5l.94-2.06 2.06-.94-2.06-.94L8.5 2.5l-.94 2.06-2.06.94zm10 10l.94 2.06.94-2.06 2.06-.94-2.06-.94-.94-2.06-.94 2.06-2.06.94z\"/><path d=\"M17.41 7.96l-1.37-1.37c-.4-.4-.92-.59-1.43-.59-.52 0-1.04.2-1.43.59L10.3 9.45l-7.72 7.72c-.78.78-.78 2.05 0 2.83L4 21.41c.39.39.9.59 1.41.59.51 0 1.02-.2 1.41-.59l7.78-7.78 2.81-2.81c.8-.78.8-2.07 0-2.86zM5.41 20L4 18.59l7.72-7.72 1.47 1.35L5.41 20z\"/>\n",
              "  </svg>\n",
              "      </button>\n",
              "      \n",
              "  <style>\n",
              "    .colab-df-container {\n",
              "      display:flex;\n",
              "      flex-wrap:wrap;\n",
              "      gap: 12px;\n",
              "    }\n",
              "\n",
              "    .colab-df-convert {\n",
              "      background-color: #E8F0FE;\n",
              "      border: none;\n",
              "      border-radius: 50%;\n",
              "      cursor: pointer;\n",
              "      display: none;\n",
              "      fill: #1967D2;\n",
              "      height: 32px;\n",
              "      padding: 0 0 0 0;\n",
              "      width: 32px;\n",
              "    }\n",
              "\n",
              "    .colab-df-convert:hover {\n",
              "      background-color: #E2EBFA;\n",
              "      box-shadow: 0px 1px 2px rgba(60, 64, 67, 0.3), 0px 1px 3px 1px rgba(60, 64, 67, 0.15);\n",
              "      fill: #174EA6;\n",
              "    }\n",
              "\n",
              "    [theme=dark] .colab-df-convert {\n",
              "      background-color: #3B4455;\n",
              "      fill: #D2E3FC;\n",
              "    }\n",
              "\n",
              "    [theme=dark] .colab-df-convert:hover {\n",
              "      background-color: #434B5C;\n",
              "      box-shadow: 0px 1px 3px 1px rgba(0, 0, 0, 0.15);\n",
              "      filter: drop-shadow(0px 1px 2px rgba(0, 0, 0, 0.3));\n",
              "      fill: #FFFFFF;\n",
              "    }\n",
              "  </style>\n",
              "\n",
              "      <script>\n",
              "        const buttonEl =\n",
              "          document.querySelector('#df-3865d5fe-8b6a-40b3-ad3b-c3e6cb768e98 button.colab-df-convert');\n",
              "        buttonEl.style.display =\n",
              "          google.colab.kernel.accessAllowed ? 'block' : 'none';\n",
              "\n",
              "        async function convertToInteractive(key) {\n",
              "          const element = document.querySelector('#df-3865d5fe-8b6a-40b3-ad3b-c3e6cb768e98');\n",
              "          const dataTable =\n",
              "            await google.colab.kernel.invokeFunction('convertToInteractive',\n",
              "                                                     [key], {});\n",
              "          if (!dataTable) return;\n",
              "\n",
              "          const docLinkHtml = 'Like what you see? Visit the ' +\n",
              "            '<a target=\"_blank\" href=https://colab.research.google.com/notebooks/data_table.ipynb>data table notebook</a>'\n",
              "            + ' to learn more about interactive tables.';\n",
              "          element.innerHTML = '';\n",
              "          dataTable['output_type'] = 'display_data';\n",
              "          await google.colab.output.renderOutput(dataTable, element);\n",
              "          const docLink = document.createElement('div');\n",
              "          docLink.innerHTML = docLinkHtml;\n",
              "          element.appendChild(docLink);\n",
              "        }\n",
              "      </script>\n",
              "    </div>\n",
              "  </div>\n",
              "  "
            ]
          },
          "metadata": {},
          "execution_count": 21
        }
      ],
      "source": [
        "PRICE_criteria = PRICE_comparison.copy()\n",
        "for col in ['Proyek 1','Proyek 2','Proyek 3']:\n",
        "    PRICE_criteria[col] = PRICE_criteria[col] / PRICE_criteria[col].sum()\n",
        "PRICE_criteria"
      ]
    },
    {
      "cell_type": "code",
      "execution_count": 22,
      "id": "355bd0ed",
      "metadata": {
        "colab": {
          "base_uri": "https://localhost:8080/"
        },
        "id": "355bd0ed",
        "outputId": "507573d5-ba06-4100-9494-d2e660c1d4ea"
      },
      "outputs": [
        {
          "output_type": "stream",
          "name": "stdout",
          "text": [
            "Bobot Proyek Berdasarkan Kriteria Harga\n",
            "--------------------------------------\n",
            "Proyek 1 : 0.123\n",
            "Proyek 2: 0.320\n",
            "Proyek 3 : 0.557\n"
          ]
        }
      ],
      "source": [
        "PRICE_P1 = (PRICE_criteria['Proyek 1'][0] + PRICE_criteria['Proyek 2'][0] + PRICE_criteria['Proyek 3'][0])/3\n",
        "PRICE_P2 = (PRICE_criteria['Proyek 1'][1] + PRICE_criteria['Proyek 2'][1] + PRICE_criteria['Proyek 3'][1])/3\n",
        "PRICE_P3 = (PRICE_criteria['Proyek 1'][2] + PRICE_criteria['Proyek 2'][2] + PRICE_criteria['Proyek 3'][2])/3\n",
        "\n",
        "print(f'Bobot Proyek Berdasarkan Kriteria Harga\\n--------------------------------------\\nProyek 1 : {PRICE_P1:.3f}\\nProyek 2: {PRICE_P2:.3f}\\nProyek 3 : {PRICE_P3:.3f}')"
      ]
    },
    {
      "cell_type": "code",
      "execution_count": 24,
      "id": "e027318a",
      "metadata": {
        "colab": {
          "base_uri": "https://localhost:8080/",
          "height": 299
        },
        "id": "e027318a",
        "outputId": "a814d342-6298-4950-8d13-3872c500544f"
      },
      "outputs": [
        {
          "output_type": "execute_result",
          "data": {
            "text/plain": [
              "Text(0, 0.5, 'Bobot Proyek')"
            ]
          },
          "metadata": {},
          "execution_count": 24
        },
        {
          "output_type": "display_data",
          "data": {
            "text/plain": [
              "<Figure size 432x288 with 1 Axes>"
            ],
            "image/png": "[encoded data removed]"
          },
          "metadata": {
            "needs_background": "light"
          }
        }
      ],
      "source": [
        "plt.bar(['Proyek 1','Proyek 2','Proyek 3'],[PRICE_P1,PRICE_P2,PRICE_P3], color = ['orange', 'green', 'blue'])\n",
        "plt.title('Bobot Proyek Berdasarkan Kriteria Harga')\n",
        "plt.ylabel('Bobot Proyek')"
      ]
    },
    {
      "cell_type": "markdown",
      "id": "415b45a4",
      "metadata": {
        "id": "415b45a4"
      },
      "source": [
        "Hasil di atas menunjukkan bahwa Proyek 3, pembelian model Ekonomi, memiliki bobot tertinggi 0.557. Ini berarti jika 3 proyek dianalisis berdasarkan kriteria Harga saja, Proyek 3 akan menjadi kandidat terbaik untuk diseleksi."
      ]
    },
    {
      "cell_type": "markdown",
      "id": "6f2aa13b",
      "metadata": {
        "id": "6f2aa13b"
      },
      "source": [
        "### Kriteria MPG "
      ]
    },
    {
      "cell_type": "code",
      "execution_count": 25,
      "id": "6749e09e",
      "metadata": {
        "colab": {
          "base_uri": "https://localhost:8080/"
        },
        "id": "6749e09e",
        "outputId": "4537d675-431a-4630-cddd-d823ddb859d3"
      },
      "outputs": [
        {
          "output_type": "stream",
          "name": "stdout",
          "text": [
            "Bobot Proyek Berdasarkan Kriteria MPG\n",
            "--------------------------------------\n",
            "Proyek 1 : 0.087\n",
            "Proyek 2 : 0.274\n",
            "Proyek 3 : 0.639\n"
          ]
        }
      ],
      "source": [
        "MPG_dic = {'MPG': ['Proyek 1','Proyek 2','Proyek 3'],\n",
        "                 'Proyek 1': [1,4,6],\n",
        "                 'Proyek 2': [1/4,1,3],\n",
        "                 'Proyek 3': [1/6,1/3,1,]}\n",
        "\n",
        "MPG_comparison = pd.DataFrame(MPG_dic).set_index('MPG')\n",
        "\n",
        "MPG_criteria = MPG_comparison.copy()\n",
        "for col in ['Proyek 1','Proyek 2','Proyek 3']:\n",
        "    MPG_criteria[col] = MPG_criteria[col] / MPG_criteria[col].sum()\n",
        "\n",
        "MPG_P1 = (MPG_criteria['Proyek 1'][0] + MPG_criteria['Proyek 2'][0] + MPG_criteria['Proyek 3'][0])/3\n",
        "MPG_P2 = (MPG_criteria['Proyek 1'][1] + MPG_criteria['Proyek 2'][1] + MPG_criteria['Proyek 3'][1])/3\n",
        "MPG_P3 = (MPG_criteria['Proyek 1'][2] + MPG_criteria['Proyek 2'][2] + MPG_criteria['Proyek 3'][2])/3\n",
        "\n",
        "print(f'Bobot Proyek Berdasarkan Kriteria MPG\\n--------------------------------------\\nProyek 1 : {MPG_P1:.3f}\\nProyek 2 : {MPG_P2:.3f}\\nProyek 3 : {MPG_P3:.3f}')"
      ]
    },
    {
      "cell_type": "code",
      "execution_count": 27,
      "id": "a8d1f876",
      "metadata": {
        "colab": {
          "base_uri": "https://localhost:8080/",
          "height": 299
        },
        "id": "a8d1f876",
        "outputId": "3dbb38df-74ea-453f-edf8-970352c052bd"
      },
      "outputs": [
        {
          "output_type": "execute_result",
          "data": {
            "text/plain": [
              "Text(0, 0.5, 'Bobot Proyek')"
            ]
          },
          "metadata": {},
          "execution_count": 27
        },
        {
          "output_type": "display_data",
          "data": {
            "text/plain": [
              "<Figure size 432x288 with 1 Axes>"
            ],
            "image/png": "[encoded data removed]"
          },
          "metadata": {
            "needs_background": "light"
          }
        }
      ],
      "source": [
        "plt.bar(['Proyek 1','Proyek 2','Proyek 3'],[MPG_P1,MPG_P2,MPG_P3], color = ['red', 'orange', 'green'])\n",
        "plt.title('Bobot Proyek Berdasarkan Kriteria MPG')\n",
        "plt.ylabel('Bobot Proyek')"
      ]
    },
    {
      "cell_type": "markdown",
      "id": "ac67fa10",
      "metadata": {
        "id": "ac67fa10"
      },
      "source": [
        "Hasil di atas menunjukkan bahwa Proyek 3, pembelian model Ekonomi, memiliki bobot tertinggi 0.639. Ini berarti jika 3 proyek dianalisis berdasarkan kriteria MPG saja, Proyek 3 akan menjadi kandidat terbaik untuk diseleksi."
      ]
    },
    {
      "cell_type": "markdown",
      "id": "b3153d56",
      "metadata": {
        "id": "b3153d56"
      },
      "source": [
        "### Kriteria Kenyamanan"
      ]
    },
    {
      "cell_type": "code",
      "execution_count": 28,
      "id": "b395b9d7",
      "metadata": {
        "colab": {
          "base_uri": "https://localhost:8080/"
        },
        "id": "b395b9d7",
        "outputId": "1956eb57-eb3b-45ac-9ecd-0ab3b61fd4de"
      },
      "outputs": [
        {
          "output_type": "stream",
          "name": "stdout",
          "text": [
            "Bobot Proyek Berdasarkan Kriteria Kenyamanan\n",
            "--------------------------------------\n",
            "Proyek 1 : 0.593\n",
            "Proyek 2 : 0.341\n",
            "Proyek 3 : 0.065\n"
          ]
        }
      ],
      "source": [
        "COMFORT_dic = {'KENYAMANAN': ['Proyek 1','Proyek 2','Proyek 3'],\n",
        "                 'Proyek 1': [1,1/2,1/8],\n",
        "                 'Proyek 2': [2,1,1/6],\n",
        "                 'Proyek 3': [8,6,1,]}\n",
        "\n",
        "COMFORT_comparison = pd.DataFrame(COMFORT_dic).set_index('KENYAMANAN')\n",
        "\n",
        "COMFORT_criteria = COMFORT_comparison.copy()\n",
        "for col in ['Proyek 1','Proyek 2','Proyek 3']:\n",
        "    COMFORT_criteria[col] = COMFORT_criteria[col] / COMFORT_criteria[col].sum()\n",
        "\n",
        "COMFORT_P1 = (COMFORT_criteria['Proyek 1'][0] + COMFORT_criteria['Proyek 2'][0] + COMFORT_criteria['Proyek 3'][0])/3\n",
        "COMFORT_P2 = (COMFORT_criteria['Proyek 1'][1] + COMFORT_criteria['Proyek 2'][1] + COMFORT_criteria['Proyek 3'][1])/3\n",
        "COMFORT_P3 = (COMFORT_criteria['Proyek 1'][2] + COMFORT_criteria['Proyek 2'][2] + COMFORT_criteria['Proyek 3'][2])/3\n",
        "\n",
        "print(f'Bobot Proyek Berdasarkan Kriteria Kenyamanan\\n--------------------------------------\\nProyek 1 : {COMFORT_P1:.3f}\\nProyek 2 : {COMFORT_P2:.3f}\\nProyek 3 : {COMFORT_P3:.3f}')"
      ]
    },
    {
      "cell_type": "code",
      "execution_count": 30,
      "id": "4eef4baa",
      "metadata": {
        "colab": {
          "base_uri": "https://localhost:8080/",
          "height": 299
        },
        "id": "4eef4baa",
        "outputId": "d72e3dc4-11b8-465f-fe70-f1eb2ffcba6d"
      },
      "outputs": [
        {
          "output_type": "execute_result",
          "data": {
            "text/plain": [
              "Text(0, 0.5, 'Bobot Proyek')"
            ]
          },
          "metadata": {},
          "execution_count": 30
        },
        {
          "output_type": "display_data",
          "data": {
            "text/plain": [
              "<Figure size 432x288 with 1 Axes>"
            ],
            "image/png": "[encoded data removed]"
          },
          "metadata": {
            "needs_background": "light"
          }
        }
      ],
      "source": [
        "plt.bar(['Proyek 1','Proyek 2','Proyek 3'],[COMFORT_P1,COMFORT_P2,COMFORT_P3], color = ['blue', 'orange', 'red'])\n",
        "plt.title('Bobot Proyek Berdasarkan Kriteria Kenyamanan')\n",
        "plt.ylabel('Bobot Proyek')"
      ]
    },
    {
      "cell_type": "markdown",
      "id": "0f2b4cb6",
      "metadata": {
        "id": "0f2b4cb6"
      },
      "source": [
        "Hasil di atas menunjukkan bahwa Proyek 1, pembelian model Eksekutif, memiliki bobot tertinggi sebesar 0.593. Ini berarti jika 3 proyek dianalisis berdasarkan kriteria Kenyamanan saja, Proyek 1 akan menjadi kandidat terbaik untuk diseleksi."
      ]
    },
    {
      "cell_type": "markdown",
      "id": "82d5ea80",
      "metadata": {
        "id": "82d5ea80"
      },
      "source": [
        "### Kriteria Gaya"
      ]
    },
    {
      "cell_type": "code",
      "execution_count": 31,
      "id": "5bc64d57",
      "metadata": {
        "scrolled": true,
        "colab": {
          "base_uri": "https://localhost:8080/"
        },
        "id": "5bc64d57",
        "outputId": "6346bbf6-60a4-4c57-9102-5dde195fa440"
      },
      "outputs": [
        {
          "output_type": "stream",
          "name": "stdout",
          "text": [
            "Bobot Proyek Berdasarkan Kriteria Gaya\n",
            "--------------------------------------\n",
            "Proyek 1 : 0.265\n",
            "Proyek 2 : 0.656\n",
            "Proyek 3 : 0.080\n"
          ]
        }
      ],
      "source": [
        "STYLE_dic = {'GAYA': ['Proyek 1','Proyek 2','Proyek 3'],\n",
        "                 'Proyek 1': [1,3,1/4],\n",
        "                 'Proyek 2': [1/3,1,1/7],\n",
        "                 'Proyek 3': [4,7,1,]}\n",
        "\n",
        "STYLE_comparison = pd.DataFrame(STYLE_dic).set_index('GAYA')\n",
        "\n",
        "STYLE_criteria = STYLE_comparison.copy()\n",
        "for col in ['Proyek 1','Proyek 2','Proyek 3']:\n",
        "    STYLE_criteria[col] = STYLE_criteria[col] / STYLE_criteria[col].sum()\n",
        "\n",
        "STYLE_P1 = (STYLE_criteria['Proyek 1'][0] + STYLE_criteria['Proyek 2'][0] + STYLE_criteria['Proyek 3'][0])/3\n",
        "STYLE_P2 = (STYLE_criteria['Proyek 1'][1] + STYLE_criteria['Proyek 2'][1] + STYLE_criteria['Proyek 3'][1])/3\n",
        "STYLE_P3 = (STYLE_criteria['Proyek 1'][2] + STYLE_criteria['Proyek 2'][2] + STYLE_criteria['Proyek 3'][2])/3\n",
        "\n",
        "print(f'Bobot Proyek Berdasarkan Kriteria Gaya\\n--------------------------------------\\nProyek 1 : {STYLE_P1:.3f}\\nProyek 2 : {STYLE_P2:.3f}\\nProyek 3 : {STYLE_P3:.3f}')"
      ]
    },
    {
      "cell_type": "code",
      "execution_count": 33,
      "id": "039cae6e",
      "metadata": {
        "colab": {
          "base_uri": "https://localhost:8080/",
          "height": 299
        },
        "id": "039cae6e",
        "outputId": "33204624-4f32-45e9-9350-2b53979a3b01"
      },
      "outputs": [
        {
          "output_type": "execute_result",
          "data": {
            "text/plain": [
              "Text(0, 0.5, 'Bobot Proyek')"
            ]
          },
          "metadata": {},
          "execution_count": 33
        },
        {
          "output_type": "display_data",
          "data": {
            "text/plain": [
              "<Figure size 432x288 with 1 Axes>"
            ],
            "image/png": "[encoded data removed]"
          },
          "metadata": {
            "needs_background": "light"
          }
        }
      ],
      "source": [
        "plt.bar(['Proyek 1','Proyek 2','Proyek 3'],[STYLE_P1,STYLE_P2,STYLE_P3], color = ['green', 'red', 'blue'])\n",
        "plt.title('Bobot Proyek Berdasarkan Kriteria Gaya')\n",
        "plt.ylabel('Bobot Proyek')"
      ]
    },
    {
      "cell_type": "markdown",
      "id": "a4d7a743",
      "metadata": {
        "id": "a4d7a743"
      },
      "source": [
        "Hasil di atas menunjukkan bahwa Proyek 2, pembelian model Medium, memiliki bobot tertinggi 0.656. Ini berarti jika 3 proyek dianalisis berdasarkan kriteria Gaya saja, Proyek 2 akan menjadi kandidat terbaik untuk diseleksi."
      ]
    },
    {
      "cell_type": "markdown",
      "id": "62892355",
      "metadata": {
        "id": "62892355"
      },
      "source": [
        "### Keempat Kriteria"
      ]
    },
    {
      "cell_type": "code",
      "execution_count": 43,
      "id": "0275600b",
      "metadata": {
        "colab": {
          "base_uri": "https://localhost:8080/"
        },
        "id": "0275600b",
        "outputId": "66540914-6504-4c68-f4ee-95e3e3b248d8"
      },
      "outputs": [
        {
          "output_type": "stream",
          "name": "stdout",
          "text": [
            "Bobot Proyek Berdasarkan 4 Kriteria\n",
            "--------------------------------------\n",
            "Proyek 1 : 0.265\n",
            "Proyek 2 : 0.421\n",
            "Proyek 3 : 0.314\n"
          ]
        }
      ],
      "source": [
        "Project_1 = Price_weight*PRICE_P1 + Comfort_weight*COMFORT_P1 + MPG_weight*MPG_P1 + Style_weight*STYLE_P1\n",
        "Project_2 = Price_weight*PRICE_P2 + Comfort_weight*COMFORT_P2 + MPG_weight*MPG_P2 + Style_weight*STYLE_P2\n",
        "Project_3 = Price_weight*PRICE_P3 + Comfort_weight*COMFORT_P3 + MPG_weight*MPG_P3 + Style_weight*STYLE_P3\n",
        "\n",
        "print(f'Bobot Proyek Berdasarkan 4 Kriteria\\n--------------------------------------\\nProyek 1 : {Project_1:.3f}\\nProyek 2 : {Project_2:.3f}\\nProyek 3 : {Project_3:.3f}')"
      ]
    },
    {
      "cell_type": "code",
      "execution_count": 44,
      "id": "30873877",
      "metadata": {
        "colab": {
          "base_uri": "https://localhost:8080/",
          "height": 299
        },
        "id": "30873877",
        "outputId": "a59dd4ae-fc8a-435a-b2c3-dd4caa712b6b"
      },
      "outputs": [
        {
          "output_type": "execute_result",
          "data": {
            "text/plain": [
              "Text(0, 0.5, 'Bobot Proyek')"
            ]
          },
          "metadata": {},
          "execution_count": 44
        },
        {
          "output_type": "display_data",
          "data": {
            "text/plain": [
              "<Figure size 432x288 with 1 Axes>"
            ],
            "image/png": "[encoded data removed]"
          },
          "metadata": {
            "needs_background": "light"
          }
        }
      ],
      "source": [
        "plt.bar(['Proyek 1','Proyek 2','Proyek 3'],[Project_1,Project_2,Project_3], color = ['red', 'orange', 'green'])\n",
        "plt.title('Bobot Proyek Berdasarkan 4 Kriteria')\n",
        "plt.ylabel('Bobot Proyek')"
      ]
    },
    {
      "cell_type": "markdown",
      "id": "0d570d77",
      "metadata": {
        "id": "0d570d77"
      },
      "source": [
        "### Keputusan Akhir"
      ]
    },
    {
      "cell_type": "markdown",
      "id": "59892f3c",
      "metadata": {
        "id": "59892f3c"
      },
      "source": [
        "Hasil akhir di atas menunjukkan bahwa proyek terbaik berdasarkan kombinasi keempat kriteria adalah Proyek 2, pembelian model Medium."
      ]
    }
  ],
  "metadata": {
    "kernelspec": {
      "display_name": "Python 3 (ipykernel)",
      "language": "python",
      "name": "python3"
    },
    "language_info": {
      "codemirror_mode": {
        "name": "ipython",
        "version": 3
      },
      "file_extension": ".py",
      "mimetype": "text/x-python",
      "name": "python",
      "nbconvert_exporter": "python",
      "pygments_lexer": "ipython3",
      "version": "3.8.8"
    },
    "colab": {
      "provenance": []
    }
  },
  "nbformat": 4,
  "nbformat_minor": 5
}